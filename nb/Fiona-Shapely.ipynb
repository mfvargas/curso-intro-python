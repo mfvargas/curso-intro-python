{
 "cells": [
  {
   "cell_type": "markdown",
   "metadata": {},
   "source": [
    "# Fiona y Shapely"
   ]
  },
  {
   "cell_type": "markdown",
   "metadata": {},
   "source": [
    "[Fiona](https://github.com/Toblerity/Fiona) es una biblioteca de Python para la lectura y escritura de datos geoespaciales basada en [OGR](https://www.gdal.org/ogr_utilities.html).\n",
    "\n",
    "Por su parte, [Shapely](https://pypi.org/project/Shapely/) es un paquete de Python enfocado en la manipulación y el análisis de objetos planos. Está basado en la bibliotecas [GEOS](https://trac.osgeo.org/geos/) y [JTS](https://projects.eclipse.org/projects/locationtech.jts)."
   ]
  },
  {
   "cell_type": "markdown",
   "metadata": {},
   "source": [
    "## Instalación"
   ]
  },
  {
   "cell_type": "markdown",
   "metadata": {},
   "source": [
    "Para instalar ambos paquetes mediante **conda**, debe ejecutarse la siguiente instrucción desde la línea de comandos de Anaconda:\n",
    "\n",
    "```\n",
    "conda install gdal fiona shapely\n",
    "```"
   ]
  },
  {
   "cell_type": "markdown",
   "metadata": {},
   "source": [
    "## Importación"
   ]
  },
  {
   "cell_type": "code",
   "execution_count": null,
   "metadata": {},
   "outputs": [],
   "source": [
    "import fiona\n",
    "# Impresión de la versión de Fiona\n",
    "print(\"Versión de Fiona:\", fiona.__version__)\n",
    "\n",
    "import shapely\n",
    "# Impresión de la versión de Shapely\n",
    "print(\"Versión de Shapely:\", shapely.__version__)"
   ]
  },
  {
   "cell_type": "markdown",
   "metadata": {},
   "source": [
    "## Ejemplos de uso"
   ]
  },
  {
   "cell_type": "markdown",
   "metadata": {},
   "source": [
    "Recorrido de los registros de una capa vectorial e impresión de atributos"
   ]
  },
  {
   "cell_type": "code",
   "execution_count": null,
   "metadata": {},
   "outputs": [],
   "source": [
    "with fiona.open('datos/provincias_snit_crtm05.geojson', 'r') as input:\n",
    "    for input_record in input:\n",
    "        print(input_record['properties']['nom_prov'])  "
   ]
  },
  {
   "cell_type": "markdown",
   "metadata": {},
   "source": [
    "**Ejercicio**: Junto al nombre de la provincia, imprima el código de esta."
   ]
  },
  {
   "cell_type": "markdown",
   "metadata": {},
   "source": [
    "Impresión de geometrías"
   ]
  },
  {
   "cell_type": "code",
   "execution_count": null,
   "metadata": {},
   "outputs": [],
   "source": [
    "from shapely.geometry import mapping, shape\n",
    "\n",
    "with fiona.open('datos/us-states.json', 'r') as input:\n",
    "    for input_record in input:\n",
    "        print(input_record['geometry'])"
   ]
  },
  {
   "cell_type": "markdown",
   "metadata": {},
   "source": [
    "Funciones geoespaciales"
   ]
  },
  {
   "cell_type": "code",
   "execution_count": null,
   "metadata": {},
   "outputs": [],
   "source": [
    "from shapely.geometry import shape\n",
    "\n",
    "with fiona.open('datos/provincias_snit.geojson', 'r') as input:\n",
    "    for input_record in input:\n",
    "        print(shape(input_record['geometry']).centroid)"
   ]
  },
  {
   "cell_type": "code",
   "execution_count": null,
   "metadata": {},
   "outputs": [],
   "source": [
    "from shapely.geometry import mapping, shape\n",
    "\n",
    "with fiona.open('datos/provincias_snit.geojson', 'r') as input:\n",
    "    for input_record in input:\n",
    "        print(mapping(shape(input_record['geometry']).centroid)['coordinates'][0], \n",
    "              mapping(shape(input_record['geometry']).centroid)['coordinates'][1])"
   ]
  },
  {
   "cell_type": "markdown",
   "metadata": {},
   "source": [
    "**Ejercicio**: Junto a las coordenadas de cada centroide, imprima el nombre de la provincia."
   ]
  },
  {
   "cell_type": "markdown",
   "metadata": {},
   "source": [
    "**Ejercicio:** Imprima también el área de cada provincia, calculada mediante Shapely."
   ]
  },
  {
   "cell_type": "markdown",
   "metadata": {},
   "source": [
    "## Escritura de archivos"
   ]
  },
  {
   "cell_type": "markdown",
   "metadata": {},
   "source": [
    "En el siguiente ejemplo, se recorren los registros de un archivo vectorial de polígonos, se obtienen sus centroides y se escriben en un archivo separado."
   ]
  },
  {
   "cell_type": "code",
   "execution_count": null,
   "metadata": {},
   "outputs": [],
   "source": [
    "import fiona\n",
    "from shapely.geometry import shape\n",
    "from collections import OrderedDict\n",
    "import logging\n",
    "\n",
    "with fiona.open('datos/provincias_snit.geojson', 'r') as input:\n",
    "    \n",
    "    output_schema = {\n",
    "        'geometry': 'Point',\n",
    "        'properties': OrderedDict([\n",
    "            ('provincia', 'str')\n",
    "        ])\n",
    "    }    \n",
    "    \n",
    "    with fiona.open('datos/centroides_provincias.geojson', 'w',\n",
    "                    crs=input.crs, \n",
    "                    driver=\"GeoJSON\",\n",
    "                    schema=output_schema\n",
    "                    ) as output:\n",
    "        \n",
    "        for input_record in input:\n",
    "            try:\n",
    "                output_record = {\n",
    "                    'geometry': {\n",
    "                        'type': 'Point',\n",
    "                        'coordinates': ((mapping(shape(input_record['geometry']).centroid))['coordinates'][0],\n",
    "                                        (mapping(shape(input_record['geometry']).centroid))['coordinates'][1])\n",
    "                    },\n",
    "                    'properties': OrderedDict([\n",
    "                        ('provincia', input_record['properties']['nom_prov'])\n",
    "                    ])\n",
    "                }\n",
    "                output.write(output_record)        \n",
    "\n",
    "                print(shape(input_record['geometry']).centroid)\n",
    "            except:\n",
    "                logging.exception(\"Error al procesar el registro %s:\", input_record['id'])\n",
    "            "
   ]
  },
  {
   "cell_type": "markdown",
   "metadata": {},
   "source": [
    "En el siguiente ejemplo, se determina el polígono en el que está ubicado cada punto de una capa"
   ]
  },
  {
   "cell_type": "code",
   "execution_count": null,
   "metadata": {},
   "outputs": [],
   "source": [
    "import fiona\n",
    "from shapely.geometry import shape\n",
    "from collections import OrderedDict\n",
    "import logging\n",
    "\n",
    "with fiona.open('datos/especies.geojson', 'r') as points:\n",
    "    \n",
    "    with fiona.open('datos/curridabat-distritos-wgs84-ign-2019.geojson', 'r') as polys:\n",
    "        \n",
    "        for input_point in points:\n",
    "            for input_poly in polys:\n",
    "                if shape(input_poly['geometry']).contains(shape(input_point['geometry'])):\n",
    "                    print(shape(input_point['geometry']), input_poly['properties']['nom_distr'])\n",
    "                    break"
   ]
  },
  {
   "cell_type": "code",
   "execution_count": null,
   "metadata": {},
   "outputs": [],
   "source": []
  }
 ],
 "metadata": {
  "kernelspec": {
   "display_name": "Python 3",
   "language": "python",
   "name": "python3"
  },
  "language_info": {
   "codemirror_mode": {
    "name": "ipython",
    "version": 3
   },
   "file_extension": ".py",
   "mimetype": "text/x-python",
   "name": "python",
   "nbconvert_exporter": "python",
   "pygments_lexer": "ipython3",
   "version": "3.7.3"
  }
 },
 "nbformat": 4,
 "nbformat_minor": 2
}
