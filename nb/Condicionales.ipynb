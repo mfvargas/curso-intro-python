{
 "cells": [
  {
   "cell_type": "markdown",
   "metadata": {},
   "source": [
    "# Condicionales"
   ]
  },
  {
   "cell_type": "markdown",
   "metadata": {},
   "source": [
    "Los condicionales son instrucciones que permiten evaluar condiciones (i.e. expresiones lógicas) y alterar el flujo del programa de acuerdo con su valor."
   ]
  },
  {
   "cell_type": "markdown",
   "metadata": {},
   "source": [
    "## La sentencia if"
   ]
  },
  {
   "cell_type": "markdown",
   "metadata": {},
   "source": [
    "En Python, los condicionales se implementan a través de la sentencia [if](https://docs.python.org/3/reference/compound_stmts.html#the-if-statement). En su forma más básica, tiene la siguiente estructura:\n",
    "\n",
    "```python\n",
    "if <condición>:\n",
    "    <bloque de sentencias>\n",
    "```\n",
    "\n",
    "<condición> es una expresión lógica (que es verdadera o falsa). Si la condición es verdadera, se ejecutará el bloque de sentencias que está luego de los dos puntos (:). En Python, un bloque de instrucciones se identifica por la cantidad de espacios que lo tabulan.\n",
    "\n",
    "Por ejemplo:"
   ]
  },
  {
   "cell_type": "code",
   "execution_count": 1,
   "metadata": {},
   "outputs": [
    {
     "name": "stdout",
     "output_type": "stream",
     "text": [
      "Inicio del programa.\n",
      "Este programa indica si una persona es menor de edad.\n",
      "\n",
      "\n",
      "- La persona es MENOR.\n",
      "- No puede votar en las elecciones presidenciales.\n",
      "- No puede tener licencia para conducir automóviles.\n",
      "\n",
      "\n",
      "Fin del programa.\n"
     ]
    }
   ],
   "source": [
    "print(\"Inicio del programa.\")\n",
    "print(\"Este programa indica si una persona es menor de edad.\")\n",
    "print(\"\\n\")\n",
    "\n",
    "edad = 15\n",
    "if edad < 18:\n",
    "    print(\"- La persona es MENOR.\")\n",
    "    print(\"- No puede votar en las elecciones presidenciales.\")\n",
    "    print(\"- No puede tener licencia para conducir automóviles.\")\n",
    "    \n",
    "print(\"\\n\")    \n",
    "print(\"Fin del programa.\")"
   ]
  },
  {
   "cell_type": "markdown",
   "metadata": {},
   "source": [
    "Después de ejecutar el bloque (si se cumple la condición), el programa continua ejecutando las instrucciones que están fuera del bloque, si es que las hay."
   ]
  },
  {
   "cell_type": "markdown",
   "metadata": {},
   "source": [
    "### La cláusula else"
   ]
  },
  {
   "cell_type": "markdown",
   "metadata": {},
   "source": [
    "Es una cláusula opcional que se utiliza para especificar un bloque alterno que se ejecuta si no se cumple la condición del if. Tiene la siguiente estructura:\n",
    "\n",
    "```python\n",
    "if <condición>:\n",
    "    <bloque de sentencias>\n",
    "else:\n",
    "    <bloque de sentencias>\n",
    "```\n",
    "\n",
    "Solamente puede usarse una cláusula else en cada sentencia if. Por ejemplo:"
   ]
  },
  {
   "cell_type": "code",
   "execution_count": 2,
   "metadata": {},
   "outputs": [
    {
     "name": "stdout",
     "output_type": "stream",
     "text": [
      "Inicio del programa.\n",
      "Este programa indica si una persona es menor o adulta.\n",
      "\n",
      "\n",
      "- La persona es ADULTA.\n",
      "- Puede votar en las elecciones presidenciales.\n",
      "- Puede tener licencia para conducir automóviles.\n",
      "\n",
      "\n",
      "Fin del programa.\n"
     ]
    }
   ],
   "source": [
    "print(\"Inicio del programa.\")\n",
    "print(\"Este programa indica si una persona es menor o adulta.\")\n",
    "print(\"\\n\")\n",
    "\n",
    "edad = 22\n",
    "if edad < 18:\n",
    "    print(\"- La persona es MENOR.\")\n",
    "    print(\"- No puede votar en las elecciones presidenciales.\")\n",
    "    print(\"- No puede tener licencia para conducir automóviles.\")    \n",
    "else:\n",
    "    print(\"- La persona es ADULTA.\")\n",
    "    print(\"- Puede votar en las elecciones presidenciales.\")\n",
    "    print(\"- Puede tener licencia para conducir automóviles.\")\n",
    "    \n",
    "print(\"\\n\")    \n",
    "print(\"Fin del programa.\")"
   ]
  },
  {
   "cell_type": "markdown",
   "metadata": {},
   "source": [
    "### La cláusula elif"
   ]
  },
  {
   "cell_type": "markdown",
   "metadata": {},
   "source": [
    "Es una cláusula opcional que permite especificar condiciones adicionales entre las cláusulas if y else. \n",
    "\n",
    "```python\n",
    "if <condición>:\n",
    "    <bloque de sentencias>\n",
    "elif <condición>:\n",
    "    <bloque de sentencias>\n",
    "else:\n",
    "    <bloque de sentencias>\n",
    "```    \n",
    "\n",
    "Puede usarse cualquier cantidad de cláusulas elif. La cláusula elif puede utilizarse sin la clásula else y viceversa.\n",
    "\n",
    "Ejemplo:"
   ]
  },
  {
   "cell_type": "code",
   "execution_count": 3,
   "metadata": {},
   "outputs": [
    {
     "name": "stdout",
     "output_type": "stream",
     "text": [
      "Inicio del programa.\n",
      "Este programa indica si una persona es menor, adulta o adulta mayor.\n",
      "\n",
      "\n",
      "- La persona es ADULTA MAYOR.\n",
      "- Puede votar en las elecciones presidenciales.\n",
      "- Puede tener licencia para conducir automóviles.\n",
      "- Tiene acceso gratuito al servicio público de autobuses.\n",
      "- Tiene prioridad en las filas de atención en bancos y otros servicios.\n",
      "\n",
      "\n",
      "Fin del programa.\n"
     ]
    }
   ],
   "source": [
    "print(\"Inicio del programa.\")\n",
    "print(\"Este programa indica si una persona es menor, adulta o adulta mayor.\")\n",
    "print(\"\\n\")\n",
    "\n",
    "edad = 65\n",
    "if edad < 18:\n",
    "    print(\"- La persona es MENOR.\")\n",
    "    print(\"- No puede votar en las elecciones presidenciales.\")\n",
    "    print(\"- No puede tener licencia para conducir automóviles.\")\n",
    "elif (edad >= 18) and (edad < 65):\n",
    "    print(\"- La persona es ADULTA.\")\n",
    "    print(\"- Puede votar en las elecciones presidenciales.\")\n",
    "    print(\"- Puede tener licencia para conducir automóviles.\")    \n",
    "else:\n",
    "    print(\"- La persona es ADULTA MAYOR.\")\n",
    "    print(\"- Puede votar en las elecciones presidenciales.\")\n",
    "    print(\"- Puede tener licencia para conducir automóviles.\")\n",
    "    print(\"- Tiene acceso gratuito al servicio público de autobuses.\")\n",
    "    print(\"- Tiene prioridad en las filas de atención en bancos y otros servicios.\")\n",
    "    \n",
    "print(\"\\n\")    \n",
    "print(\"Fin del programa.\")"
   ]
  },
  {
   "cell_type": "markdown",
   "metadata": {},
   "source": [
    "## Acerca de los bloques en Python"
   ]
  },
  {
   "cell_type": "markdown",
   "metadata": {},
   "source": [
    "Los bloques son conjuntos de sentencias contiguas que están tabulados con la misma cantidad de espacios. La cantidad de espacios puede ser decidida por el programador, pero [se recomienda usar cuatro espacios](https://www.python.org/dev/peps/pep-0008/#indentation).\n",
    "\n",
    "**NOTA:** deben utilizarse espacios y NO TABULADORES. Si se mezclan espacios y tabuladores, el programa puede comportarse de forma errónea."
   ]
  },
  {
   "cell_type": "markdown",
   "metadata": {},
   "source": [
    "## Ejercicios"
   ]
  },
  {
   "cell_type": "markdown",
   "metadata": {},
   "source": [
    "Escriba un programa que:\n",
    "* Le solicite al usuario su peso y su estatura.\n",
    "* Calcule su índice de masa corporal.\n",
    "* Indique el valor del índice y si este es considerado bajo (menor que 18.5), normal (entre 18.5 y 25) o alto (mayor o igual que 25).\n",
    "\n",
    "Los detalles del cálculo del índice están en [https://www.diabetes.ca/diabetes-and-you/healthy-living-resources/weight-management/body-mass-index-bmi-calculator](https://www.diabetes.ca/diabetes-and-you/healthy-living-resources/weight-management/body-mass-index-bmi-calculator)."
   ]
  }
 ],
 "metadata": {
  "kernelspec": {
   "display_name": "Python 3",
   "language": "python",
   "name": "python3"
  },
  "language_info": {
   "codemirror_mode": {
    "name": "ipython",
    "version": 3
   },
   "file_extension": ".py",
   "mimetype": "text/x-python",
   "name": "python",
   "nbconvert_exporter": "python",
   "pygments_lexer": "ipython3",
   "version": "3.7.2"
  }
 },
 "nbformat": 4,
 "nbformat_minor": 2
}
