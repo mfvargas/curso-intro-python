{
 "cells": [
  {
   "cell_type": "markdown",
   "metadata": {},
   "source": [
    "# El programa \"Hola Mundo\"\n",
    "El programa **\"Hola Mundo\"** es frecuentemente el primer programa que se escribe para aprender un nuevo lenguaje de programación y probar su sintaxis básica. El programa simplemente imprime en la pantalla la hilera de texto \"Hola Mundo\" o una similar.\n",
    "\n",
    "La tradición del uso de este programa en el aprendizaje de la programación de computadoras tiene su origen en el libro [_The C Programming Language_](http://en.wikipedia.org/wiki/The_C_Programming_Language_(book)), escrito en 1978 por Bryan W. Kernighan y Dennis M. Ritchie. El programa de ejemplo de este libro imprime la hilera en inglés **\"hello, world\"** (en minúscula, con una coma entre las palabras y sin signos de admiración). Aunque este el texto que le dio popularidad, el programa había sido utilizado previamente en el [tutorial del lenguaje de programación B](https://www.bell-labs.com/usr/dmr/www/bintro.html), de Bryan W. Kernighan.\n",
    "\n",
    "El sitio [The Hello World Collection](http://helloworldcollection.de/) presenta el código de \"Hola Mundo\" en aproximadamente 600 lenguajes de programación."
   ]
  },
  {
   "cell_type": "markdown",
   "metadata": {},
   "source": [
    "## \"Hola Mundo\" en Python"
   ]
  },
  {
   "cell_type": "code",
   "execution_count": 1,
   "metadata": {},
   "outputs": [
    {
     "name": "stdout",
     "output_type": "stream",
     "text": [
      "Hola Mundo\n"
     ]
    }
   ],
   "source": [
    "print(\"Hola Mundo\")"
   ]
  },
  {
   "cell_type": "code",
   "execution_count": null,
   "metadata": {},
   "outputs": [],
   "source": []
  }
 ],
 "metadata": {
  "kernelspec": {
   "display_name": "Python 3",
   "language": "python",
   "name": "python3"
  },
  "language_info": {
   "codemirror_mode": {
    "name": "ipython",
    "version": 3
   },
   "file_extension": ".py",
   "mimetype": "text/x-python",
   "name": "python",
   "nbconvert_exporter": "python",
   "pygments_lexer": "ipython3",
   "version": "3.7.1"
  }
 },
 "nbformat": 4,
 "nbformat_minor": 2
}
