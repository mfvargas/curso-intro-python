{
 "cells": [
  {
   "cell_type": "markdown",
   "metadata": {},
   "source": [
    "# Ciclos"
   ]
  },
  {
   "cell_type": "markdown",
   "metadata": {},
   "source": [
    "Los ciclos son bloques de instrucciones que se ejecutan varias veces. Para manejar ciclos, Python provee dos mecanismos para manejar ciclos: la sentencia **_while_** y la sentencia **_for_**."
   ]
  },
  {
   "cell_type": "markdown",
   "metadata": {},
   "source": [
    "## La sentencia while"
   ]
  },
  {
   "cell_type": "markdown",
   "metadata": {},
   "source": [
    "La setencia [while](https://docs.python.org/3/reference/compound_stmts.html#the-while-statement) se utiliza para ejecutar repetidamente un bloque de instrucciones mientras que una condición sea verdadera. Su estructura básica es:\n",
    "\n",
    "```python\n",
    "while <condicion>:\n",
    "    <bloque de sentencias>\n",
    "``` \n",
    "\n",
    "Típicamente, en el bloque hay instrucciones que provocan que la condición se vuelva falsa eventualmente y el ciclo termine. De lo contrario, se producirá un **ciclo infinito**. Nótese que si la condición ya es falsa cuando el flujo del programa llega al **_while_**, el bloque no se ejecutará nunca."
   ]
  },
  {
   "cell_type": "markdown",
   "metadata": {},
   "source": [
    "### Ejemplos"
   ]
  },
  {
   "cell_type": "code",
   "execution_count": 1,
   "metadata": {},
   "outputs": [
    {
     "name": "stdout",
     "output_type": "stream",
     "text": [
      "1\n",
      "2\n",
      "3\n",
      "4\n",
      "5\n"
     ]
    }
   ],
   "source": [
    "# Contador de números en orden ascendente\n",
    "n = 1\n",
    "while n <= 5:\n",
    "    print(n)\n",
    "    n = n + 1"
   ]
  },
  {
   "cell_type": "code",
   "execution_count": 2,
   "metadata": {},
   "outputs": [
    {
     "name": "stdout",
     "output_type": "stream",
     "text": [
      "5\n",
      "4\n",
      "3\n",
      "2\n",
      "1\n"
     ]
    }
   ],
   "source": [
    "# Contador de números en orden descendente\n",
    "n = 5\n",
    "while n >= 1:\n",
    "    print(n)\n",
    "    n = n - 1"
   ]
  },
  {
   "cell_type": "code",
   "execution_count": 3,
   "metadata": {},
   "outputs": [
    {
     "name": "stdout",
     "output_type": "stream",
     "text": [
      "L\n",
      "o\n",
      "r\n",
      "e\n",
      "m\n",
      " \n",
      "i\n",
      "p\n",
      "s\n",
      "u\n",
      "m\n"
     ]
    }
   ],
   "source": [
    "# Recorrido de una hilera\n",
    "texto = \"Lorem ipsum\"\n",
    "n = 0\n",
    "while n < len(texto) :\n",
    "    print(texto[n])\n",
    "    n = n + 1"
   ]
  },
  {
   "cell_type": "code",
   "execution_count": 4,
   "metadata": {},
   "outputs": [
    {
     "name": "stdout",
     "output_type": "stream",
     "text": [
      "\n",
      "Por favor ingrese un número entre 5 y 10: 5\n",
      "¡Gracias!\n"
     ]
    }
   ],
   "source": [
    "# Validación de entrada de datos\n",
    "numero = -1\n",
    "while not(numero >= 5 and numero <= 10) :\n",
    "    numero = float(input(\"\\nPor favor ingrese un número entre 5 y 10: \"))\n",
    "    if not(numero >= 5 and numero <= 10) :\n",
    "        print(\"El número no está entre 5 y 10, por favor inténtelo de nuevo...\")\n",
    "print(\"¡Gracias!\")"
   ]
  },
  {
   "cell_type": "markdown",
   "metadata": {},
   "source": [
    "## La sentencia for"
   ]
  },
  {
   "cell_type": "markdown",
   "metadata": {},
   "source": [
    "La sentencia [for](https://docs.python.org/3/reference/compound_stmts.html#the-for-statement) se utiliza para iterar sobre los elementos de estructuras de datos como secuencias (ej. hilera, lista, tupla). Su sintaxis puede resumirse de la siguiente manera:\n",
    "\n",
    "```python\n",
    "for <variable_iteracion> in <secuencia>:\n",
    "    <bloque de sentencias>\n",
    "``` \n",
    "\n",
    "La variable de iteración es una variable que asume el valor del elemento que se procesa en cada iteración."
   ]
  },
  {
   "cell_type": "markdown",
   "metadata": {},
   "source": [
    "### Ejemplos"
   ]
  },
  {
   "cell_type": "code",
   "execution_count": 5,
   "metadata": {},
   "outputs": [
    {
     "name": "stdout",
     "output_type": "stream",
     "text": [
      "¡Buenos días Johan!\n",
      "¡Buenos días Marilyn!\n",
      "¡Buenos días Nury!\n"
     ]
    }
   ],
   "source": [
    "# Recorrido de una lista\n",
    "alumnos = ['Johan', 'Marilyn', 'Nury']\n",
    "for alumno in alumnos:\n",
    "    print(\"¡Buenos días \" + alumno + \"!\")"
   ]
  },
  {
   "cell_type": "code",
   "execution_count": 6,
   "metadata": {},
   "outputs": [
    {
     "name": "stdout",
     "output_type": "stream",
     "text": [
      "1\n",
      "2\n",
      "3\n",
      "4\n",
      "5\n",
      "6\n",
      "7\n",
      "8\n",
      "9\n",
      "10\n"
     ]
    }
   ],
   "source": [
    "# Recorrido de un rango de números\n",
    "# La función range(a, b) crea una secuencia de números entre a y b-1.\n",
    "for numero in range(1, 11):\n",
    "    print(numero)"
   ]
  },
  {
   "cell_type": "code",
   "execution_count": 7,
   "metadata": {},
   "outputs": [
    {
     "name": "stdout",
     "output_type": "stream",
     "text": [
      "Lista:  [3, 41, 12, 9, 74, 15]\n",
      "Cantidad de elementos: 6\n"
     ]
    }
   ],
   "source": [
    "# Cálculo de la cantidad de elementos \n",
    "lista = [3, 41, 12, 9, 74, 15]\n",
    "contador = 0\n",
    "print(\"Lista: \", lista)\n",
    "for item in lista :\n",
    "    contador += 1 # esto es lo mismo que: contador = contador + 1\n",
    "print(\"Cantidad de elementos:\", contador)"
   ]
  },
  {
   "cell_type": "code",
   "execution_count": 8,
   "metadata": {},
   "outputs": [
    {
     "name": "stdout",
     "output_type": "stream",
     "text": [
      "Lista:  [3, 41, 12, 9, 74, 15]\n",
      "Suma de los elementos: 154\n"
     ]
    }
   ],
   "source": [
    "# Suma de los elementos de una lista\n",
    "lista = [3, 41, 12, 9, 74, 15]\n",
    "suma = 0\n",
    "print(\"Lista: \", lista)\n",
    "for item in lista :\n",
    "    suma += item\n",
    "print(\"Suma de los elementos:\", suma)"
   ]
  },
  {
   "cell_type": "markdown",
   "metadata": {},
   "source": [
    "## La sentencia break"
   ]
  },
  {
   "cell_type": "markdown",
   "metadata": {},
   "source": [
    "La sentencia [break](https://docs.python.org/3/reference/simple_stmts.html#break) finaliza un ciclo y pasa el flujo del programa a la instrucción que sigue al bloque del while o del for."
   ]
  },
  {
   "cell_type": "code",
   "execution_count": 9,
   "metadata": {},
   "outputs": [
    {
     "name": "stdout",
     "output_type": "stream",
     "text": [
      "Lista:  [3, 41, 12, 9, 74, 15]\n",
      "Primer número mayor que 20:  41\n"
     ]
    }
   ],
   "source": [
    "# Busca el primer número de una lista que sea mayor que 20 y sale del ciclo una vez que lo ha encontrado\n",
    "lista = [3, 41, 12, 9, 74, 15]\n",
    "print(\"Lista: \", lista)\n",
    "for item in lista :\n",
    "    if item > 20 :\n",
    "        print(\"Primer número mayor que 20: \", item)\n",
    "        break"
   ]
  },
  {
   "cell_type": "markdown",
   "metadata": {},
   "source": [
    "## La sentencia continue"
   ]
  },
  {
   "cell_type": "markdown",
   "metadata": {},
   "source": [
    "La sentencia [continue](https://docs.python.org/3/reference/simple_stmts.html#continue) interrumpe la iteración actual de un ciclo y continúa con la siguiente. No sale completamente del ciclo, como la sentencia break."
   ]
  },
  {
   "cell_type": "code",
   "execution_count": 10,
   "metadata": {},
   "outputs": [
    {
     "name": "stdout",
     "output_type": "stream",
     "text": [
      "Lista:  [3, 41, 12, 9, 74, 15]\n",
      "82\n",
      "148\n"
     ]
    }
   ],
   "source": [
    "# Imprime el doble de cada uno de los números mayores que 20 que hay en una lista. \n",
    "# Si el número de la iteración es menor o igual que 20, utiliza la sentencia continue para \"saltarse\" esa iteración.\n",
    "\n",
    "lista = [3, 41, 12, 9, 74, 15]\n",
    "print(\"Lista: \", lista)\n",
    "for item in lista :\n",
    "    if item <= 20:\n",
    "        continue\n",
    "    print(item * 2)"
   ]
  },
  {
   "cell_type": "markdown",
   "metadata": {},
   "source": [
    "## Ejercicios"
   ]
  },
  {
   "cell_type": "markdown",
   "metadata": {},
   "source": [
    "1. Escriba un programa que calcule el promedio de los números de una lista."
   ]
  }
 ],
 "metadata": {
  "kernelspec": {
   "display_name": "Python 3",
   "language": "python",
   "name": "python3"
  },
  "language_info": {
   "codemirror_mode": {
    "name": "ipython",
    "version": 3
   },
   "file_extension": ".py",
   "mimetype": "text/x-python",
   "name": "python",
   "nbconvert_exporter": "python",
   "pygments_lexer": "ipython3",
   "version": "3.7.2"
  }
 },
 "nbformat": 4,
 "nbformat_minor": 2
}
